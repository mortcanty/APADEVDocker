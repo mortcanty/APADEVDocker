{
  "cells": [
    {
      "cell_type": "markdown",
      "metadata": {
        "id": "view-in-github",
        "colab_type": "text"
      },
      "source": [
        "<a href=\"https://colab.research.google.com/github/mortcanty/APADEVDocker/blob/master/tutorials/imad_tutorial_pt1/index.ipynb\" target=\"_parent\"><img src=\"https://colab.research.google.com/assets/colab-badge.svg\" alt=\"Open In Colab\"/></a>"
      ]
    },
    {
      "cell_type": "markdown",
      "metadata": {
        "id": "pJrMq0aNrF-u"
      },
      "source": [
        "# Change Detection on Google Earth Engine \n",
        "# Part 1 The MAD Transformation\n",
        "\n",
        " Author: mortcanty\n",
        "\n"
      ]
    },
    {
      "cell_type": "markdown",
      "metadata": {
        "id": "4xFjivyNFe7U"
      },
      "source": [
        "## Context\n",
        "\n",
        "With the great tools available in  Google Earth Engine (GEE) it is easy to generate satellite image differences and time series animations which visualize changes, sometimes quite dramatically. Such representations are very good as eye-openers to give a conceptual, overall impression of change. They may, however, be perceived differently from person to person and not allow more than qualitative interpretation. With more rigorous statistical methods one can often extract more and better change information on both pixel and patch/field levels. \n",
        "\n",
        "The Multivariate Alteration Detection (MAD) transformation was proposed and developed some time ago by [Allan Nielsen and his coworkers](https://www2.imm.dtu.dk/pubdb/pubs/1220-full.html)  at the Technical University of Denmark and later [extended to an iteratively re-weighted version](https://www2.imm.dtu.dk/pubdb/pubs/4695-full.html) called IR-MAD or iMAD. The iMAD algorithm has since found widespread application for the generation of change information from visual/infrared imagery as well as for performing [relative radiometric normalization](http://www2.imm.dtu.dk/pubdb/pubs/5362-full.html) of image pairs.\n",
        "\n",
        "This Tutorial is intended to familiarize readers with the iMAD method so that they may use it with confidence in their research, wherever they think it appropriate. It is based on material taken from Chapter 9 of my [textbook](https://www.taylorfrancis.com/books/image-analysis-classification-change-detection-remote-sensing-morton-john-canty/10.1201/9780429464348). In preparing the Tutorial I have tried to take as much advantage as possible of the GEE platform to illustrate and demonstrate the theory interactively.\n",
        "\n",
        "## Outline\n",
        "\n",
        "The Tutorial is split into three parts, of which this is the first:\n",
        "\n",
        "    1. The MAD Transformation\n",
        "    2. The iMAD Algorithm\n",
        "    3. Examples\n",
        "    \n",
        "In Part 3 a convenient Jupyter widget interface for running the iMAD algorithm from a Docker container is also described.\n",
        "\n",
        "## Prerequisites\n",
        "Little prior knowledge is required to follow the discussion, apart from some familiarity with the GEE API and a basic, intuitive understanding of the simple statistical concepts of probability distributions and their moments, i.e., mean, variance (var) and covariance (cov). In the course of the tutorial we'll frequently mention the so-called *variance-covariance matrix*, or *covariance matrix* for short. The covariance matrix of a set of measured variables $X_i,\\ i=1\\dots N$, such as the band-wise values of a multispectral image pixel, is defined as\n",
        "\n",
        "$$\n",
        "\\Sigma_X\\ =\\ \\pmatrix{ \\sigma^2_1 & \\sigma_{12} & \\dots & \\sigma_{1N} \\cr\n",
        "                \\sigma_{21} & \\sigma^2_2& \\dots & \\sigma_{2N} \\cr\n",
        "                  \\vdots    &  \\vdots     & \\vdots&  \\vdots     \\cr\n",
        "                \\sigma_{N1} & \\sigma_{N2} & \\dots &  \\sigma^2_N }, \n",
        "$$\n",
        "\n",
        "where\n",
        "\n",
        "$$\n",
        "\\sigma_{ij}  = {\\rm cov}(X_i,X_j) = \\langle (X_i - \\bar X_i)(X_j - \\bar X_j)\\rangle, \\quad\n",
        "\\sigma^2_i =  {\\rm cov}(X_i,X_i) = {\\rm var}(X_i) = \\langle (X_i-\\bar X_i)^2\\rangle, \\quad \\ i,j = 1\\dots N.\n",
        "$$\n",
        "\n",
        "Here, $\\bar X_i$ denotes mean value and $\\langle\\dots\\rangle$ is ensemble average. The covariance matrix is symmetric about its principal diagonal. The *correlation* between $X_i$ and $X_j$ is defined as the normalized covariance\n",
        "\n",
        "$$\n",
        "\\rho_{ij} = {{\\rm cov}(X_i,X_j)\\over \\sqrt{{\\rm var}(X_i)}\\sqrt{{\\rm var}(X_j)}}. \n",
        "$$\n",
        "\n",
        "Since we are in a Colab environment we will use the Python API, but it is so similar to the JavaScript version that this should pose no problems to anyone not acquainted with it.\n"
      ]
    },
    {
      "cell_type": "markdown",
      "metadata": {
        "id": "cClM-tAWSnuS"
      },
      "source": [
        "## Preliminaries\n",
        "\n",
        "The cells below execute the necessary formalities for accessing the Earth Engine from this Colab notebook. They also import the various Python add-ons needed, including the [earthengine-jupyter](https://github.com/google/earthengine-jupyter) interactive map package, and define a few helper routines for displaying results."
      ]
    },
    {
      "cell_type": "code",
      "execution_count": 1,
      "metadata": {
        "colab": {
          "base_uri": "https://localhost:8080/"
        },
        "id": "ZdyBUBN4F1IA",
        "outputId": "dd08d96c-7954-4b36-b45c-9423c680ddd2"
      },
      "outputs": [
        {
          "output_type": "stream",
          "name": "stdout",
          "text": [
            "Authenticating using Notebook auth...\n",
            "To authorize access needed by Earth Engine, open the following URL in a web browser and follow the instructions. If the web browser does not start automatically, please manually browse the URL below.\n",
            "\n",
            "    https://code.earthengine.google.com/client-auth?scopes=https%3A//www.googleapis.com/auth/earthengine%20https%3A//www.googleapis.com/auth/devstorage.full_control&request_id=K4FrxMLC68F7AW-bVU09y6reOUgyrB6F6T8z8iWBhMs&tc=N-y7FG53j0j8rZCeldU0krXCnXw-LMOiM7PH_sGzHCc&cc=ms-MD0VXj33jTvG3pvwBJBdyjtrWtOMDlJSCLQlPJwM\n",
            "\n",
            "The authorization workflow will generate a code, which you should paste in the box below.\n",
            "Enter verification code: 4/1AfgeXvsspzRQWqW9WuAYHFkiNqGUeyQFSeEPyGY9JZ67tzhfDQ-gvKgGt68\n",
            "\n",
            "Successfully saved authorization token.\n",
            "✓ Successfully initialized!\n"
          ]
        }
      ],
      "source": [
        "# Authenticate\n",
        "COLAB_AUTH_FLOW_CLOUD_PROJECT_FOR_API_CALLS = None\n",
        "\n",
        "import ee\n",
        "import google\n",
        "import os\n",
        "\n",
        "if COLAB_AUTH_FLOW_CLOUD_PROJECT_FOR_API_CALLS is None:\n",
        "  print(\"Authenticating using Notebook auth...\")\n",
        "  if os.path.exists(ee.oauth.get_credentials_path()) is False:\n",
        "    ee.Authenticate()\n",
        "  else:\n",
        "    print('\\N{check mark} '\n",
        "          'Previously created authentication credentials were found.')\n",
        "  ee.Initialize()\n",
        "else:\n",
        "  print('Authenticating using Colab auth...')\n",
        "  # Authenticate to populate Application Default Credentials in the Colab VM.\n",
        "  google.colab.auth.authenticate_user()\n",
        "  # Create credentials needed for accessing Earth Engine.\n",
        "  credentials, auth_project_id = google.auth.default()\n",
        "  # Initialize Earth Engine.\n",
        "  ee.Initialize(credentials, project=COLAB_AUTH_FLOW_CLOUD_PROJECT_FOR_API_CALLS)\n",
        "print('\\N{check mark} Successfully initialized!')"
      ]
    },
    {
      "cell_type": "code",
      "execution_count": 2,
      "metadata": {
        "colab": {
          "base_uri": "https://localhost:8080/"
        },
        "id": "vOA4BBsK2KUh",
        "outputId": "38da192b-c824-4c3d-8191-6ff2f6708111"
      },
      "outputs": [
        {
          "output_type": "stream",
          "name": "stdout",
          "text": [
            "ee_jupyter was not found. Installing now...\n",
            "ee_jupyter (version 0.0.6) is installed.\n"
          ]
        }
      ],
      "source": [
        "# Install the ee_jupyter package\n",
        "import os\n",
        "try:\n",
        "  import ee_jupyter\n",
        "except ModuleNotFoundError:\n",
        "  print('ee_jupyter was not found. Installing now...')\n",
        "  result = os.system('pip -q install earthengine-jupyter')\n",
        "  import ee_jupyter\n",
        "print(f'ee_jupyter (version {ee_jupyter.__version__}) '\n",
        "        f'is installed.')"
      ]
    },
    {
      "cell_type": "code",
      "execution_count": 3,
      "metadata": {
        "id": "NqcghIcEIWnZ"
      },
      "outputs": [],
      "source": [
        "# Import other packages used in the tutorial\n",
        "%matplotlib inline\n",
        "import numpy as np\n",
        "import random, time\n",
        "import matplotlib.pyplot as plt\n",
        "import mpl_toolkits.mplot3d.axes3d as p3\n",
        "from scipy.stats import norm, chi2\n",
        "\n",
        "from ee_jupyter.colab import set_colab_output_cell_height\n",
        "from ee_jupyter.ipyleaflet import Map\n",
        "from ee_jupyter.ipyleaflet import Inspector\n",
        "#from ee_jupyter.layout import MapInspectorHBox as MapPlus\n",
        "import ipyleaflet\n",
        "import ipywidgets as widgets\n",
        "from IPython.display import HTML\n",
        "from pprint import pprint  # for pretty printing"
      ]
    },
    {
      "cell_type": "code",
      "execution_count": 4,
      "metadata": {
        "id": "6z-Jcr3n8MhD"
      },
      "outputs": [],
      "source": [
        "# Truncate a 1-D array to dec decimal places\n",
        "def trunc(values, dec = 3):\n",
        "    return np.trunc(values*10**dec)/(10**dec)"
      ]
    },
    {
      "cell_type": "code",
      "execution_count": 5,
      "metadata": {
        "id": "JXWO7Qug8MhE"
      },
      "outputs": [],
      "source": [
        "# Display an image in a one percent linear stretch\n",
        "def display_ls(image, map, name, centered = False):\n",
        "    bns =  image.bandNames().length().getInfo()\n",
        "    if bns == 3:\n",
        "        image = image.rename('B1', 'B2', 'B3')\n",
        "        pb_99 = ['B1_p99','B2_p99','B3_p99']\n",
        "        pb_1 = ['B1_p1','B2_p1','B3_p1']\n",
        "        img = ee.Image.rgb(image.select('B1'),image.select('B2'),image.select('B3'))\n",
        "    else:\n",
        "        image = image.rename('B1')\n",
        "        pb_99 = ['B1_p99']\n",
        "        pb_1 = ['B1_p1']\n",
        "        img = image.select('B1')\n",
        "    percentiles = image.reduceRegion(ee.Reducer.percentile([1, 99]),maxPixels = 1e11)   \n",
        "    mx = percentiles.values(pb_99)\n",
        "    if centered:\n",
        "        mn = ee.Array(mx).multiply(-1).toList()\n",
        "    else:\n",
        "        mn = percentiles.values(pb_1)\n",
        "    map.addLayer(img, {'min': mn, 'max': mx}, name)"
      ]
    },
    {
      "cell_type": "markdown",
      "metadata": {
        "id": "bn5m_-sOpkDj"
      },
      "source": [
        "## Simple Differences\n",
        "Let's begin by considering two $N$-band optical/infrared images of the same scene acquired with the same sensor at two different times, between which  ground reflectance changes have occurred at\n",
        "some locations but not everywhere. To see those changes we can ``flick back and forth´´ between gray scale or RGB representations of  the images on a computer display. Alternatively we can simply subtract one image from the other and examine the difference. Symbolically the difference image is\n",
        " \n",
        "$$\n",
        "Z = X-Y\n",
        "$$\n",
        " \n",
        "where \n",
        "$$\n",
        "X= \\pmatrix{X_1\\cr X_2\\cr\\vdots\\cr X_N},\\quad Y= \\pmatrix{Y_1\\cr Y_2\\cr\\vdots\\cr Y_N}\n",
        "$$ \n",
        " \n",
        "are ``typical´´ pixel vectors (more formally: _random vectors_) representing the first and second image, respectively. "
      ]
    },
    {
      "cell_type": "markdown",
      "source": [
        "### The Rothhaargebirge\n",
        "\n",
        "For example, here is an area of interest (aoi) covering a heavily forested area around the [Rothaargebirge](https://en.wikipedia.org/wiki/Rothaar_Mountains) in North Rhine Westphalia, Germany. Due to severe drought in recent years large swaths of shallow-root coniferous trees have died and been cleared away, leaving desiduous trees for the most part untouched."
      ],
      "metadata": {
        "id": "KX-pPWU9wO5I"
      }
    },
    {
      "cell_type": "code",
      "execution_count": 6,
      "metadata": {
        "cellView": "form",
        "id": "Xs39zZmNSdru"
      },
      "outputs": [],
      "source": [
        "aoi =  ee.Geometry.Polygon([[[8.143334472657244, 51.15359956116322],\n",
        "                             [8.143334472657244, 50.86500249367691],\n",
        "                             [8.656945312501108, 50.86500249367691],\n",
        "                             [8.656945312501108, 51.15359956116322],\n",
        "                             [8.143334472657244, 51.15359956116322]]])"
      ]
    },
    {
      "cell_type": "markdown",
      "metadata": {
        "id": "rwCBEe49d-xx"
      },
      "source": [
        "We first collect two Sentinel-2 scenes which bracket some of the recent clear cutting (June, 2021 and June, 2022) and print out their timestamps. For demonstration purposes we choose top of atmosphere reflectance since the MAD transformation does not require absolute surface reflectances. "
      ]
    },
    {
      "cell_type": "code",
      "execution_count": 8,
      "metadata": {
        "colab": {
          "base_uri": "https://localhost:8080/"
        },
        "id": "JzDg-puTSybq",
        "outputId": "ecf78211-511c-45e5-9a17-865b71d52ab6"
      },
      "outputs": [
        {
          "output_type": "stream",
          "name": "stdout",
          "text": [
            "Sun Jun 13 10:36:49 2021\n",
            "Thu Jun 23 10:37:00 2022\n"
          ]
        }
      ],
      "source": [
        "def collect(aoi, t1a ,t1b, t2a, t2b):\n",
        "    try:\n",
        "        im1 = ee.Image( ee.ImageCollection(\"COPERNICUS/S2_HARMONIZED\")\n",
        "                               .filterBounds(aoi) \n",
        "                               .filterDate(ee.Date(t1a), ee.Date(t1b)) \n",
        "                               .filter(ee.Filter.contains(rightValue=aoi,leftField='.geo')) \n",
        "                               .sort('CLOUDY_PIXEL_PERCENTAGE')\n",
        "                               .first()                      \n",
        "                               .clip(aoi) )\n",
        "        im2 = ee.Image( ee.ImageCollection(\"COPERNICUS/S2_HARMONIZED\")\n",
        "                               .filterBounds(aoi) \n",
        "                               .filterDate(ee.Date(t2a), ee.Date(t2b)) \n",
        "                               .filter(ee.Filter.contains(rightValue=aoi,leftField='.geo')) \n",
        "                               .sort('CLOUDY_PIXEL_PERCENTAGE')\n",
        "                               .first()                      \n",
        "                               .clip(aoi) )\n",
        "        timestamp = im1.get('system:time_start').getInfo()\n",
        "        timestamp = time.gmtime(int(timestamp)/1000)\n",
        "        print(time.strftime('%c', timestamp))\n",
        "        timestamp = im2.get('system:time_start').getInfo()\n",
        "        timestamp = time.gmtime(int(timestamp)/1000)\n",
        "        print(time.strftime('%c', timestamp))\n",
        "        return (im1, im2)\n",
        "    except Exception as e:\n",
        "        print('Error: %s'%e)\n",
        "        \n",
        "im1, im2 = collect(aoi, '2021-06-01', '2021-06-30', '2022-06-01', '2022-06-30')        "
      ]
    },
    {
      "cell_type": "markdown",
      "metadata": {
        "id": "zekLrceuaNtK"
      },
      "source": [
        "In order to view the images we instantiate an interactive map located at the center of the aoi. Since the map requires lat/long coordinates we have to reverse the long/lat order returned from the *coordinates()* method of the *ee.Geometry.centroid()* object:"
      ]
    },
    {
      "cell_type": "code",
      "execution_count": 9,
      "metadata": {
        "colab": {
          "base_uri": "https://localhost:8080/",
          "height": 441,
          "referenced_widgets": [
            "d2cae5f926fa40cbaea6a7b7c22946cf",
            "b130a00abc9a4c878a1521b42a461c8b",
            "83e6273cba134a6f9cfff1477e4b2789",
            "aa044fb21a6449a7ae3991e204870a18",
            "128543eb073949c4ab351db938fc107d",
            "235118b00e53471c8bfb3c5e75c56f69",
            "0f0e1f28f909439389211139ffa7d67b",
            "1e4e74072c4d4fca90e94d2d24042fe8",
            "b4849e59ba0a4f958846644642618bc6",
            "4335d44b62c74957aa6ef651eaa118d1",
            "ca38e7ab7e4a402b89af953b803daa93",
            "dba8ce2f4ea044baa919609533283f1b"
          ]
        },
        "id": "kc_pwScrphK1",
        "outputId": "ef2cd71d-a722-49ef-8d3e-3b2d5cbb736f"
      },
      "outputs": [
        {
          "output_type": "display_data",
          "data": {
            "text/plain": [
              "Map(center=[51.00943283188412, 8.400139892579185], controls=(ZoomControl(options=['position', 'zoom_in_text', …"
            ],
            "application/vnd.jupyter.widget-view+json": {
              "version_major": 2,
              "version_minor": 0,
              "model_id": "d2cae5f926fa40cbaea6a7b7c22946cf"
            }
          },
          "metadata": {
            "application/vnd.jupyter.widget-view+json": {
              "colab": {
                "custom_widget_manager": {
                  "url": "https://ssl.gstatic.com/colaboratory-static/widgets/colab-cdn-widget-manager/d2e234f7cc04bf79/manager.min.js"
                }
              }
            }
          }
        }
      ],
      "source": [
        "# Interactive map\n",
        "location = aoi.centroid().coordinates().getInfo()[::-1]\n",
        "M1 = Map(**{'center':location, 'zoom':11})\n",
        "\n",
        "M1"
      ]
    },
    {
      "cell_type": "markdown",
      "metadata": {
        "id": "vYKXgtJ2FdYP"
      },
      "source": [
        "Then we display rgb composites of the first 3 (visual) bands of the Sentinel images as well as their difference. We use the previously defined function *display_ls()* to display the images in a one percent linear stretch."
      ]
    },
    {
      "cell_type": "code",
      "execution_count": 10,
      "metadata": {
        "id": "W8_al6RlBpNq"
      },
      "outputs": [],
      "source": [
        "visirbands = ['B2','B3','B4','B8','B11','B12']\n",
        "visbands = ['B2','B3','B4']\n",
        "\n",
        "diff = im1.subtract(im2).select(visbands)\n",
        "display_ls(im1.select(visbands), M1, 'Image 1')\n",
        "display_ls(im2.select(visbands), M1, 'Image 2')\n",
        "display_ls(diff, M1, 'Difference')"
      ]
    },
    {
      "cell_type": "markdown",
      "metadata": {
        "id": "h2d-vg-ezwpe"
      },
      "source": [
        "Small intensity differences (the gray-ish background in the difference image above)  indicate no change, large\n",
        "positive (bright) or negative (dark) colors indicate change. The most obvious changes are in fact due to the clear cutting. Decision thresholds can be set to define significant changes. The thresholds are usually expressed in terms of standard deviations from the mean difference value, which is taken to correspond to no change. The per-band variances of the difference images are simply\n",
        "\n",
        "$$\n",
        "{\\rm var}(Z_i) = {\\rm var}(X_i - Y_i) = {\\rm var}(X_i) + {\\rm var}(Y_i) - 2\\cdot{\\rm cov}(X_i,Y_i),\\quad i=1\\dots N,\n",
        "$$\n",
        "\n",
        "or, if the bands are uncorrelated, about twice as noisy as the individual image bands. Normally $X_i$ and $Y_i$ are positively correlated (${\\rm cov}(X_i,Y_i) > 0$) so the variance of $Z_i$ is somewhat smaller. When the  difference signatures in the spectral channels are combined so as to try to characterize the nature of the changes that have taken place, one speaks of _spectral change vector analysis_.\n",
        "\n",
        "While the recent clear cuts are fairly easily identified  as (some but not all of) the dark areas in the simple difference image above, it is possible to derive a better and more informative change map. This involves taking greater advantage of the statistical properties of the images."
      ]
    },
    {
      "cell_type": "markdown",
      "metadata": {
        "id": "rhMR6KLhkar5"
      },
      "source": [
        "## The MAD Transformation\n",
        "Let's make a linear combination of the intensities for all $N$ bands in the first image $X$, thus creating a scalar image \n",
        "\n",
        "$$\n",
        "U  = a_1X_1 + a_2X_2 + \\dots + a_NX_N = {\\bf a}^\\top X. \\tag{1}\n",
        "$$\n",
        "\n",
        "The symbol ${\\bf a}^\\top$ denotes the transpose of the column vector ${\\bf a}=\\pmatrix{a_1\\cr a_2\\cr\\vdots\\cr a_N}$, i.e., the row vector $ {\\bf a}^\\top = (a_1,a_2 \\dots a_N)$. \n",
        "\n",
        "The expression ${\\bf a}^\\top X$ is called an _inner vector product_. The vector of coefficients ${\\bf a}$ is as yet unspecified.\n",
        "We'll do the same for the second image $Y$, forming the linear combination\n",
        "\n",
        "$$\n",
        "V = b_1Y_1 + b_2Y_2 + \\dots + b_NY_N = {\\bf b}^\\top Y, \\tag{2}\n",
        "$$\n",
        "\n",
        "and then look at the scalar difference $U-V$. Change information\n",
        "is now contained, for the time being, in a single image rather than distributed among all $N$ bands.\n",
        "\n",
        "We have of course to choose the coefficient vectors ${\\bf a}$ and\n",
        "${\\bf b}$ in some suitable way.  In [Nielsen et al. (1998)](https://www2.imm.dtu.dk/pubdb/pubs/1220-full.html) it is suggested that they be determined by making the transformed images $U$ and $V$ _as similar as they can be_ before taking their difference. This sounds at first counter-intuitive: why make the images similar when we want to see the dissimilarities? The crux is that, in making them match one another by taking suitable linear combinations, we ensure that pixels in the transformed images $U$ and $V$ at which *indeed no change has taken place* will be as similar as possible before they are compared (subtracted). The genuine changes will then, it is hoped, be all the more apparent in the difference image.\n",
        "\n",
        "The similarity can be accomplished with standard [_canonical correlation analysis_ (CCA)](https://en.wikipedia.org/wiki/Canonical_correlation), a technique first described by Harold Hotelling in 1936. When performing CCA on the images represented by Equations (1) and (2), one maximizes the *correlation*  between the random variables $U$ and $V$, given by\n",
        "\n",
        "$$\n",
        "\\rho = {{\\rm cov}(U,V)\\over \\sqrt{{\\rm var}(U)}\\sqrt{{\\rm var}(V)}}. \\tag{3}\n",
        "$$\n",
        "\n",
        "Arbitrary multiples of $U$ and $V$ would clearly have the same correlation (the multiples will cancel off in numerator and denominator), so a  constraint must be chosen. A  convenient one is\n",
        "\n",
        "$$\n",
        "{\\rm var}(U)={\\rm var}(V)=1. \\tag{4}\n",
        "$$\n",
        "\n",
        "For those more versed in matrix algebra the details of CCA are given [my textbook](https://www.taylorfrancis.com/books/image-analysis-classification-change-detection-remote-sensing-morton-john-canty/10.1201/9780429464348), but it all boils down to solving two so-called *generalized eigenvalue problems* for determining the transformation vectors ${\\bf a}$ and ${\\bf b}$ in Equations (1) and (2), respectively. There is not just one solution but rather $N$ solutions. They consist of the $N$ sets of _eigenvectors_ $({\\bf a}^i, {\\bf b}^i)$,\n",
        "\n",
        "$$\n",
        "{\\bf a}^i=\\pmatrix{a_1\\cr a_2\\cr\\vdots\\cr a_N}_i,\\quad {\\bf b}^i=\\pmatrix{b_1\\cr b_2\\cr\\vdots\\cr b_N}_i, \\quad i=1\\dots N\n",
        "$$\n",
        "\n",
        "and, correspondingly, the $N$ sets of so-called _canonical variates_ $(U_i, V_i),\\ i= 1\\dots N$. As intended, unlike the bands of the original images $X$ and $Y$, they are ordered by similarity rather than by spectral wavelength.  The  difference images \n",
        "\n",
        "$$\n",
        "M_i = U_i - V_i = ({\\bf a}^i)^\\top X - ({\\bf b}^i)^\\top Y,\\quad i=1\\dots N, \\tag{5}\n",
        "$$\n",
        "\n",
        "contain the change information and are called the *MAD variates*. \n"
      ]
    },
    {
      "cell_type": "markdown",
      "metadata": {
        "id": "ePBGinhxsSg_"
      },
      "source": [
        "### Auxiliary functions"
      ]
    },
    {
      "cell_type": "markdown",
      "metadata": {
        "id": "o0j6--qcsSg_"
      },
      "source": [
        "To run the MAD algorithm on GEE image pairs, we need some helper routines. These are coded below. The first, called *covarw()*, returns the weighted covariance matrix of an $N$-band image as well as the weighted, or centered mean-zero image. Why it is important to be able to weight the pixels before centering or calculating the covariance matrix will become apparent in Part 2 of the Tutorial. "
      ]
    },
    {
      "cell_type": "code",
      "execution_count": 11,
      "metadata": {
        "id": "xJXqZ3ZJsSg_"
      },
      "outputs": [],
      "source": [
        "def covarw(image, weights = None, scale = 20, maxPixels = 1e11):\n",
        "    '''Return the weighted centered image and its weighted covariance matrix'''  \n",
        "    geometry = image.geometry()\n",
        "    bandNames = image.bandNames()\n",
        "    N = bandNames.length()\n",
        "    if weights is None:\n",
        "        weights = image.constant(1)\n",
        "    weightsImage = image.multiply(ee.Image.constant(0)).add(weights)\n",
        "    means = image.addBands(weightsImage) \\\n",
        "                 .reduceRegion(ee.Reducer.mean().repeat(N).splitWeights(), \n",
        "                               scale = scale, \n",
        "                               maxPixels = maxPixels) \\\n",
        "                 .toArray() \\\n",
        "                 .project([1])\n",
        "    centered = image.toArray().subtract(means) \n",
        "    B1 = centered.bandNames().get(0)       \n",
        "    b1 = weights.bandNames().get(0)     \n",
        "    nPixels = ee.Number(centered.reduceRegion(ee.Reducer.count(), \n",
        "                                              scale = scale, \n",
        "                                              maxPixels = maxPixels).get(B1)) \n",
        "    sumWeights = ee.Number(weights.reduceRegion(ee.Reducer.sum(), \n",
        "                                                geometry = geometry, \n",
        "                                                scale = scale, \n",
        "                                                maxPixels = maxPixels).get(b1))\n",
        "    covw = centered.multiply(weights.sqrt()) \\\n",
        "                   .toArray() \\\n",
        "                   .reduceRegion(ee.Reducer.centeredCovariance(), \n",
        "                                 geometry = geometry, \n",
        "                                 scale = scale,\n",
        "                                 maxPixels = maxPixels) \\\n",
        "                   .get('array')\n",
        "    covw = ee.Array(covw).multiply(nPixels).divide(sumWeights)\n",
        "    return (centered.arrayFlatten([bandNames]), covw)"
      ]
    },
    {
      "cell_type": "markdown",
      "metadata": {
        "id": "bEtccjvpsShA"
      },
      "source": [
        "The second routine, called _corr()_, transforms a covariance matrix to the equivalent correlation matrix by dividing by the square roots of the variances, see Equation (3)."
      ]
    },
    {
      "cell_type": "code",
      "execution_count": 12,
      "metadata": {
        "id": "olCi6RvJsShA"
      },
      "outputs": [],
      "source": [
        "def corr(cov):\n",
        "    ''' transfrom covariance matrix to correlation matrix '''\n",
        "    # diagonal matrix of inverse sigmas\n",
        "    sInv = cov.matrixDiagonal().sqrt().matrixToDiag().matrixInverse()\n",
        "    # transform\n",
        "    corr = sInv.matrixMultiply(cov).matrixMultiply(sInv).getInfo()\n",
        "    # truncate\n",
        "    return [list(map(trunc, corr[i])) for i in range(len(corr))]    "
      ]
    },
    {
      "cell_type": "markdown",
      "metadata": {
        "id": "G34S_Z2gQAwp"
      },
      "source": [
        "For example the code below calculates the (unweighted) covariance matrix of the visual and infrared bands of the image _im1_ and prints out the corresponding correlation matrix."
      ]
    },
    {
      "cell_type": "code",
      "execution_count": 13,
      "metadata": {
        "colab": {
          "base_uri": "https://localhost:8080/"
        },
        "id": "TmFXfPhYDSNi",
        "outputId": "9fbfdf5e-ff68-4e36-aafc-bad7138efcb2"
      },
      "outputs": [
        {
          "output_type": "stream",
          "name": "stdout",
          "text": [
            "[[0.999, 0.946, 0.934, 0.063, 0.646, 0.784],\n",
            " [0.946, 1.0, 0.893, 0.291, 0.742, 0.809],\n",
            " [0.934, 0.893, 1.0, -0.04, 0.737, 0.891],\n",
            " [0.063, 0.291, -0.04, 1.0, 0.432, 0.166],\n",
            " [0.646, 0.742, 0.737, 0.432, 1.0, 0.936],\n",
            " [0.784, 0.809, 0.891, 0.166, 0.936, 0.999]]\n"
          ]
        }
      ],
      "source": [
        "_, cov = covarw(im1.select(visirbands))\n",
        "pprint(corr(cov))"
      ]
    },
    {
      "cell_type": "markdown",
      "metadata": {
        "id": "oWhTaIRXsShB"
      },
      "source": [
        "Note that the spectral bands of the image are generally highly and positively correlated with one another.\n",
        "\n",
        "By stacking the images one atop the other we can use the helper functions to display the between image correlations \n",
        "\n",
        "$$\n",
        "\\rm{corr}(X_i,Y_i), \\quad i= 1\\dots N.\n",
        "$$\n",
        "\n",
        "They are found in the diagonal of the upper left (or lower right) $6\\times 6$ submatrix of the correlation matrix for the stacked image."
      ]
    },
    {
      "cell_type": "code",
      "execution_count": 14,
      "metadata": {
        "id": "vXJkxrZmsShB",
        "outputId": "a0f07b0f-62ff-4c07-aa3b-ead704d2804f",
        "colab": {
          "base_uri": "https://localhost:8080/"
        }
      },
      "outputs": [
        {
          "output_type": "stream",
          "name": "stdout",
          "text": [
            "[0.773 0.761 0.63  0.831 0.656 0.616]\n"
          ]
        }
      ],
      "source": [
        "im12 = im1.select(visirbands).addBands(im2.select(visirbands))\n",
        "_, covar = covarw(im12)\n",
        "correl = np.array(corr(covar))\n",
        "print(np.diag(correl[:6,6:]))"
      ]
    },
    {
      "cell_type": "markdown",
      "metadata": {
        "id": "iJC-EC_PAXo9"
      },
      "source": [
        "It is these between image correlations that the MAD algorithm tries to maximize.\n",
        "\n",
        "The third and last auxiliary routine, *geneiv()*, is the core of CCA and the MAD transformation. It solves the *generalized eigenproblem*,\n",
        "\n",
        "$$\n",
        "CX = \\lambda BX\n",
        "$$\n",
        "\n",
        "for two $N\\times N$ matrices $C$ and $B$, returning the $N$ solutions or eigenvectors $X$ and the $N$ eigenvalues $\\lambda$."
      ]
    },
    {
      "cell_type": "code",
      "execution_count": 15,
      "metadata": {
        "cellView": "form",
        "id": "lK3AMH709Sg5"
      },
      "outputs": [],
      "source": [
        "def geneiv(C,B):\n",
        "    '''Return the eignvalues and eigenvectors of the generalized eigenproblem\n",
        "                         C*X = lambda*B*X '''\n",
        "    C = ee.Array(C)\n",
        "    B = ee.Array(B)  \n",
        "    #  Li = choldc(B)^-1\n",
        "    Li = ee.Array(B.matrixCholeskyDecomposition().get('L')).matrixInverse()\n",
        "    #  solve symmetric, ordinary eigenproblem Li*C*Li^T*x = lambda*x\n",
        "    Xa = Li.matrixMultiply(C) \\\n",
        "           .matrixMultiply(Li.matrixTranspose()) \\\n",
        "           .eigen()\n",
        "    #  eigenvalues as a row vector\n",
        "    lambdas = Xa.slice(1, 0, 1).matrixTranspose()\n",
        "    #  eigenvectors as columns\n",
        "    X = Xa.slice(1, 1).matrixTranspose()  \n",
        "    #  generalized eigenvectors as columns, Li^T*X\n",
        "    eigenvecs = Li.matrixTranspose().matrixMultiply(X)\n",
        "    return (lambdas, eigenvecs) "
      ]
    },
    {
      "cell_type": "markdown",
      "metadata": {
        "id": "qksWAxsrIV4g"
      },
      "source": [
        "The next cell codes the MAD transformation itself in the funcion *mad_run()*, taking as input two multiband images and returning the _canonical variates_\n",
        "\n",
        "$$\n",
        "U_i, \\ V_i, \\quad i=1\\dots N,\n",
        "$$\n",
        "\n",
        "the _MAD variates_\n",
        "\n",
        "$$\n",
        "M_i = U_i - V_i, \\quad i=1\\dots N,\n",
        "$$ \n",
        "\n",
        "as well as the sum of the squares of the standardized MAD variates,\n",
        " \n",
        "$$\n",
        "Z = \\sum_{i=1}^N\\left({M_i\\over \\sigma_{M_i}}\\right)^2.\n",
        "$$ "
      ]
    },
    {
      "cell_type": "code",
      "execution_count": 16,
      "metadata": {
        "id": "-4I6Ig_zFICj"
      },
      "outputs": [],
      "source": [
        "#@title The MAD transformation\n",
        "def mad_run(image1, image2, scale = 20): \n",
        "    ''' The MAD transformation of two multiband images '''\n",
        "    image = image1.addBands(image2)\n",
        "    region = image.geometry()   \n",
        "    nBands = image.bandNames().length().divide(2) \n",
        "    centeredImage,covarArray = covarw(image,scale=scale)\n",
        "    bNames = centeredImage.bandNames()\n",
        "    bNames1 = bNames.slice(0,nBands)\n",
        "    bNames2 = bNames.slice(nBands)\n",
        "    centeredImage1 = centeredImage.select(bNames1)\n",
        "    centeredImage2 = centeredImage.select(bNames2) \n",
        "    s11 = covarArray.slice(0,0,nBands).slice(1,0,nBands)\n",
        "    s22 = covarArray.slice(0,nBands).slice(1,nBands)\n",
        "    s12 = covarArray.slice(0,0,nBands).slice(1,nBands)\n",
        "    s21 = covarArray.slice(0,nBands).slice(1,0,nBands)      \n",
        "    c1 = s12.matrixMultiply(s22.matrixInverse()).matrixMultiply(s21)\n",
        "    b1 = s11\n",
        "    c2 = s21.matrixMultiply(s11.matrixInverse()).matrixMultiply(s12)\n",
        "    b2 = s22\n",
        "#  solution of generalized eigenproblems     \n",
        "    lambdas, A = geneiv(c1,b1)\n",
        "    _,       B = geneiv(c2,b2) \n",
        "    rhos = lambdas.sqrt().project(ee.List([1]))\n",
        "#  MAD variances    \n",
        "    sigma2s = rhos.subtract(1).multiply(-2).toList() \n",
        "    sigma2s = ee.Image.constant(sigma2s)\n",
        "#  ensure sum of positive correlations between X and U is positive\n",
        "    tmp = s11.matrixDiagonal().sqrt()\n",
        "    ones = tmp.multiply(0).add(1)\n",
        "    tmp = ones.divide(tmp).matrixToDiag()\n",
        "    s = tmp.matrixMultiply(s11).matrixMultiply(A).reduce(ee.Reducer.sum(),[0]).transpose()\n",
        "    A = A.matrixMultiply(s.divide(s.abs()).matrixToDiag())\n",
        "#  ensure positive correlation\n",
        "    tmp = A.transpose().matrixMultiply(s12).matrixMultiply(B).matrixDiagonal()\n",
        "    tmp = tmp.divide(tmp.abs()).matrixToDiag()\n",
        "    B = B.matrixMultiply(tmp)           \n",
        "#  canonical and MAD variates as images\n",
        "    centeredImage1Array = centeredImage1.toArray().toArray(1)\n",
        "    centeredImage2Array = centeredImage2.toArray().toArray(1)\n",
        "    U = ee.Image(A.transpose()).matrixMultiply(centeredImage1Array) \\\n",
        "                   .arrayProject([0]) \\\n",
        "                   .arrayFlatten([bNames2]) \n",
        "    V = ee.Image(B.transpose()).matrixMultiply(centeredImage2Array) \\\n",
        "                   .arrayProject([0]) \\\n",
        "                   .arrayFlatten([bNames2]) \n",
        "    MAD = U.subtract(V)                     \n",
        "    #  chi square image\n",
        "    Z = MAD.pow(2) \\\n",
        "              .divide(sigma2s) \\\n",
        "              .reduce(ee.Reducer.sum()) \\\n",
        "              .clip(region)                                          \n",
        "    return (U, V, MAD, Z)                                                      "
      ]
    },
    {
      "cell_type": "markdown",
      "metadata": {
        "id": "jLuzqZ4lR1Ck"
      },
      "source": [
        "After setting up the MAD transformation on the six visual and infrared bands of the  *Rothaargebirge* images, "
      ]
    },
    {
      "cell_type": "code",
      "execution_count": 17,
      "metadata": {
        "id": "zTK-8PV5NvtO",
        "scrolled": false
      },
      "outputs": [],
      "source": [
        "U, V, MAD, Z = mad_run(im1.select(visirbands), im2.select(visirbands), scale = 20)"
      ]
    },
    {
      "cell_type": "markdown",
      "metadata": {
        "id": "vbeJ6WF_sShC"
      },
      "source": [
        "we display an rgb composite of the first 3 MAD variates, together with the original images and their simple difference:"
      ]
    },
    {
      "cell_type": "code",
      "execution_count": 18,
      "metadata": {
        "colab": {
          "referenced_widgets": [
            "75b9cb15dc3349b0936bfb8a788d71f7",
            "c84b02af30a04b0ab3964f12dbcecf45",
            "6e9a56d75ba3414e93481a57bdc6d673",
            "0a53ab6523e54afea25996ba35e6f755",
            "df668e55cba74c26adb98bcb4041b578",
            "c983af637dac4e7eaeb2b070defc2b1f",
            "18b2f7afc8454679b815344a861f78e3",
            "dd0e5024670e474db8733b3bc87bc88d",
            "718765f9f4474cc2b73802cb89e1ee0a",
            "6467dac494cc439182bf349619423dba",
            "e33c9175c37144c4a3c2df7366cae9d0",
            "6cefd536ae5f428fba4a49d3ce8708fb",
            "9868142d7b7a4ae1a8f194debc1a0300"
          ],
          "base_uri": "https://localhost:8080/",
          "height": 441
        },
        "id": "zNAGaOr8sShC",
        "outputId": "e492d35a-8884-4532-8188-ae20d735813d"
      },
      "outputs": [
        {
          "output_type": "display_data",
          "data": {
            "text/plain": [
              "Map(center=[51.00943283188412, 8.400139892579185], controls=(ZoomControl(options=['position', 'zoom_in_text', …"
            ],
            "application/vnd.jupyter.widget-view+json": {
              "version_major": 2,
              "version_minor": 0,
              "model_id": "75b9cb15dc3349b0936bfb8a788d71f7"
            }
          },
          "metadata": {
            "application/vnd.jupyter.widget-view+json": {
              "colab": {
                "custom_widget_manager": {
                  "url": "https://ssl.gstatic.com/colaboratory-static/widgets/colab-cdn-widget-manager/d2e234f7cc04bf79/manager.min.js"
                }
              }
            }
          }
        }
      ],
      "source": [
        "M2 = Map(**{'center':location, 'zoom':11})\n",
        "display_ls(im1.select(visbands), M2, 'Image 1')\n",
        "display_ls(im2.select(visbands), M2, 'Image 2')\n",
        "display_ls(diff, M2, 'Difference')\n",
        "display_ls(MAD.select(0, 1, 2), M2, 'MAD Image', True)\n",
        "\n",
        "M2"
      ]
    },
    {
      "cell_type": "markdown",
      "metadata": {
        "id": "ALAZOS0EdM24"
      },
      "source": [
        "The richness in colors in the MAD image is a consequence of the decoupling (orthogonalization) of the MAD components, as will be explained below. Colors notwithsatnding, when compared with the simple difference image the result is only _mittelprächtig_ (German slang for \"not so hot\"), and certainly no easier to interpret. \n",
        "\n",
        "In any case, the cononical variates have very nice properties indeed. They are _all mutually uncorrelated_ except for the pairs $(U_i,V_i)$, and these are ordered by decreasing positive correlation:\n",
        "\n",
        "$$\n",
        "\\rho_i = {\\rm cov}(U_i, V_i),\\quad i=1\\dots N, \\tag{6}\n",
        "$$\n",
        "\n",
        "with $\\rho_1 > \\rho_2 >\\dots >\\rho_N$. \n",
        "\n",
        "Stacking the images $U$ and $V$, these facts can be read from the $12\\times 12$ correlation matrix:"
      ]
    },
    {
      "cell_type": "code",
      "execution_count": 19,
      "metadata": {
        "colab": {
          "base_uri": "https://localhost:8080/"
        },
        "id": "fwQjSqbPdPUQ",
        "outputId": "69f13d3e-82e3-48cb-ef73-734122340847"
      },
      "outputs": [
        {
          "output_type": "stream",
          "name": "stdout",
          "text": [
            "array([[ 0.999,  0.   ,  0.   ,  0.   , -0.   ,  0.   ,  0.915,  0.   ,\n",
            "         0.   ,  0.   , -0.   ,  0.   ],\n",
            "       [ 0.   ,  1.   ,  0.   ,  0.   , -0.   ,  0.   , -0.   ,  0.855,\n",
            "         0.   , -0.   , -0.   ,  0.   ],\n",
            "       [ 0.   ,  0.   ,  0.999,  0.   , -0.   ,  0.   ,  0.   ,  0.   ,\n",
            "         0.727,  0.   , -0.   , -0.   ],\n",
            "       [ 0.   ,  0.   ,  0.   ,  1.   ,  0.   ,  0.   ,  0.   ,  0.   ,\n",
            "        -0.   ,  0.617,  0.   , -0.   ],\n",
            "       [-0.   , -0.   , -0.   ,  0.   ,  1.   , -0.   , -0.   , -0.   ,\n",
            "        -0.   ,  0.   ,  0.514, -0.   ],\n",
            "       [ 0.   ,  0.   ,  0.   ,  0.   , -0.   ,  1.   ,  0.   ,  0.   ,\n",
            "         0.   ,  0.   , -0.   ,  0.351],\n",
            "       [ 0.915, -0.   ,  0.   ,  0.   , -0.   ,  0.   ,  0.999, -0.   ,\n",
            "         0.   ,  0.   , -0.   ,  0.   ],\n",
            "       [ 0.   ,  0.855,  0.   ,  0.   , -0.   ,  0.   , -0.   ,  1.   ,\n",
            "         0.   , -0.   , -0.   ,  0.   ],\n",
            "       [ 0.   ,  0.   ,  0.727, -0.   , -0.   ,  0.   ,  0.   ,  0.   ,\n",
            "         1.   , -0.   , -0.   , -0.   ],\n",
            "       [ 0.   , -0.   ,  0.   ,  0.617,  0.   ,  0.   ,  0.   , -0.   ,\n",
            "        -0.   ,  0.999,  0.   , -0.   ],\n",
            "       [-0.   , -0.   , -0.   ,  0.   ,  0.514, -0.   , -0.   , -0.   ,\n",
            "        -0.   ,  0.   ,  1.   , -0.   ],\n",
            "       [ 0.   ,  0.   , -0.   , -0.   , -0.   ,  0.351,  0.   ,  0.   ,\n",
            "        -0.   , -0.   , -0.   ,  1.   ]])\n",
            "rho =  [0.915 0.855 0.727 0.617 0.514 0.351]\n"
          ]
        }
      ],
      "source": [
        "_, covar = covarw(U.addBands(V))\n",
        "correl = np.array(corr(covar))\n",
        "pprint(correl)\n",
        "print('rho = ',np.diag(correl[:6,6:]))"
      ]
    },
    {
      "cell_type": "markdown",
      "metadata": {
        "id": "aIWj8a7j8MhO"
      },
      "source": [
        "The MAD variates themselves are consequently also mutually uncorrelated, their covariances being given by\n",
        "\n",
        "$$\n",
        "{\\rm cov}(M_i,M_j) = {\\rm cov}(U_i-V_i,U_j-V_j)= 0,\\quad i\\ne j=1\\dots N, \\tag{7}\n",
        "$$\n",
        "\n",
        "and their variances by\n",
        "\n",
        "$$\n",
        "\\sigma_{M_i}^2={\\rm var}(U_i-V_i)= {\\rm var}(U_i)+{\\rm var}(V_i) -2{\\rm cov}(U_i,V_i) = 2(1-\\rho_i),\\quad i=1\\dots N, \\tag{8}\n",
        "$$\n",
        "\n",
        "where the last equality follows from the constraint Equation (4)."
      ]
    },
    {
      "cell_type": "code",
      "execution_count": 20,
      "metadata": {
        "colab": {
          "base_uri": "https://localhost:8080/"
        },
        "id": "kXOtyyIThIOw",
        "outputId": "9e1855a4-a105-4e69-8358-545bc771e218"
      },
      "outputs": [
        {
          "output_type": "execute_result",
          "data": {
            "text/plain": [
              "[[0.166, 0.0, 0.0, 0.0, 0.0, 0.0],\n",
              " [0.0, 0.283, 0.0, -0.0, -0.0, -0.0],\n",
              " [0.0, 0.0, 0.535, 0.0, 0.0, 0.0],\n",
              " [0.0, -0.0, 0.0, 0.751, -0.0, -0.0],\n",
              " [0.0, -0.0, 0.0, -0.0, 0.955, 0.0],\n",
              " [0.0, -0.0, 0.0, -0.0, 0.0, 1.275]]"
            ]
          },
          "metadata": {},
          "execution_count": 20
        }
      ],
      "source": [
        "# display MAD covariance matrix\n",
        "_, covar = covarw(MAD)\n",
        "covar = covar.getInfo()\n",
        "[list(map(trunc,covar[i])) for i in range(len(covar))]"
      ]
    },
    {
      "cell_type": "markdown",
      "metadata": {
        "id": "HOCSrVuo6jcL"
      },
      "source": [
        "\n",
        "\n",
        "The first MAD variate has minimum variance in its pixel\n",
        "intensities.  The second MAD variate has minimum variance subject to the condition that its pixel intensities are statistically\n",
        "uncorrelated with those in the first variate; the third has\n",
        "minimum spread subject to being uncorrelated with the first two,\n",
        "and so on. Depending on the type of change present, any of the\n",
        "components may exhibit significant change information, although it tends to be concentrated in the first few MAD variates. One of the nicest aspects of the MAD transformation is that it can sort different categories of change into different, uncorrelated image bands.\n",
        "\n",
        "However the result, as we saw, needs some improvement. This is the subject of Part 2."
      ]
    }
  ],
  "metadata": {
    "colab": {
      "provenance": [],
      "include_colab_link": true
    },
    "kernelspec": {
      "display_name": "Python 3 (ipykernel)",
      "language": "python",
      "name": "python3"
    },
    "language_info": {
      "codemirror_mode": {
        "name": "ipython",
        "version": 3
      },
      "file_extension": ".py",
      "mimetype": "text/x-python",
      "name": "python",
      "nbconvert_exporter": "python",
      "pygments_lexer": "ipython3",
      "version": "3.10.6"
    },
    "widgets": {
      "application/vnd.jupyter.widget-state+json": {
        "d2cae5f926fa40cbaea6a7b7c22946cf": {
          "model_module": "jupyter-leaflet",
          "model_name": "LeafletMapModel",
          "model_module_version": "^0.17",
          "state": {
            "_dom_classes": [],
            "_model_module": "jupyter-leaflet",
            "_model_module_version": "^0.17",
            "_model_name": "LeafletMapModel",
            "_view_count": null,
            "_view_module": "jupyter-leaflet",
            "_view_module_version": "^0.17",
            "_view_name": "LeafletMapView",
            "bottom": 175698,
            "bounce_at_zoom_limits": true,
            "box_zoom": true,
            "center": [
              51.00943283188412,
              8.400139892579185
            ],
            "close_popup_on_click": true,
            "controls": [
              "IPY_MODEL_b130a00abc9a4c878a1521b42a461c8b",
              "IPY_MODEL_83e6273cba134a6f9cfff1477e4b2789",
              "IPY_MODEL_aa044fb21a6449a7ae3991e204870a18"
            ],
            "crs": {
              "name": "EPSG3857",
              "custom": false
            },
            "default_style": "IPY_MODEL_128543eb073949c4ab351db938fc107d",
            "double_click_zoom": true,
            "dragging": true,
            "dragging_style": "IPY_MODEL_235118b00e53471c8bfb3c5e75c56f69",
            "east": 8.935317993164064,
            "fullscreen": false,
            "inertia": true,
            "inertia_deceleration": 3000,
            "inertia_max_speed": 1500,
            "interpolation": "bilinear",
            "keyboard": true,
            "keyboard_pan_offset": 80,
            "keyboard_zoom_offset": 1,
            "layers": [
              "IPY_MODEL_0f0e1f28f909439389211139ffa7d67b",
              "IPY_MODEL_4335d44b62c74957aa6ef651eaa118d1",
              "IPY_MODEL_ca38e7ab7e4a402b89af953b803daa93",
              "IPY_MODEL_dba8ce2f4ea044baa919609533283f1b"
            ],
            "layout": "IPY_MODEL_1e4e74072c4d4fca90e94d2d24042fe8",
            "left": 273599,
            "max_zoom": null,
            "min_zoom": null,
            "modisdate": "2022-11-23",
            "north": 51.095760497969785,
            "options": [
              "bounce_at_zoom_limits",
              "box_zoom",
              "center",
              "close_popup_on_click",
              "double_click_zoom",
              "dragging",
              "fullscreen",
              "inertia",
              "inertia_deceleration",
              "inertia_max_speed",
              "interpolation",
              "keyboard",
              "keyboard_pan_offset",
              "keyboard_zoom_offset",
              "max_zoom",
              "min_zoom",
              "prefer_canvas",
              "scroll_wheel_zoom",
              "tap",
              "tap_tolerance",
              "touch_zoom",
              "world_copy_jump",
              "zoom",
              "zoom_animation_threshold",
              "zoom_delta",
              "zoom_snap"
            ],
            "panes": {},
            "prefer_canvas": false,
            "right": 275157,
            "scroll_wheel_zoom": false,
            "south": 50.92294760545582,
            "style": "IPY_MODEL_b4849e59ba0a4f958846644642618bc6",
            "tap": true,
            "tap_tolerance": 15,
            "top": 175298,
            "touch_zoom": true,
            "west": 7.865524291992188,
            "window_url": "https://ww6o1x133q-496ff2e9c6d22116-0-colab.googleusercontent.com/outputframe.html?vrz=colab-20221122-060107-RC02_490329686",
            "world_copy_jump": false,
            "zoom": 11,
            "zoom_animation_threshold": 4,
            "zoom_delta": 1,
            "zoom_snap": 1
          }
        },
        "b130a00abc9a4c878a1521b42a461c8b": {
          "model_module": "jupyter-leaflet",
          "model_name": "LeafletZoomControlModel",
          "model_module_version": "^0.17",
          "state": {
            "_model_module": "jupyter-leaflet",
            "_model_module_version": "^0.17",
            "_model_name": "LeafletZoomControlModel",
            "_view_count": null,
            "_view_module": "jupyter-leaflet",
            "_view_module_version": "^0.17",
            "_view_name": "LeafletZoomControlView",
            "options": [
              "position",
              "zoom_in_text",
              "zoom_in_title",
              "zoom_out_text",
              "zoom_out_title"
            ],
            "position": "topleft",
            "zoom_in_text": "+",
            "zoom_in_title": "Zoom in",
            "zoom_out_text": "-",
            "zoom_out_title": "Zoom out"
          }
        },
        "83e6273cba134a6f9cfff1477e4b2789": {
          "model_module": "jupyter-leaflet",
          "model_name": "LeafletAttributionControlModel",
          "model_module_version": "^0.17",
          "state": {
            "_model_module": "jupyter-leaflet",
            "_model_module_version": "^0.17",
            "_model_name": "LeafletAttributionControlModel",
            "_view_count": null,
            "_view_module": "jupyter-leaflet",
            "_view_module_version": "^0.17",
            "_view_name": "LeafletAttributionControlView",
            "options": [
              "position",
              "prefix"
            ],
            "position": "bottomright",
            "prefix": "ipyleaflet"
          }
        },
        "aa044fb21a6449a7ae3991e204870a18": {
          "model_module": "jupyter-leaflet",
          "model_name": "LeafletLayersControlModel",
          "model_module_version": "^0.17",
          "state": {
            "_model_module": "jupyter-leaflet",
            "_model_module_version": "^0.17",
            "_model_name": "LeafletLayersControlModel",
            "_view_count": null,
            "_view_module": "jupyter-leaflet",
            "_view_module_version": "^0.17",
            "_view_name": "LeafletLayersControlView",
            "options": [
              "position"
            ],
            "position": "topright"
          }
        },
        "128543eb073949c4ab351db938fc107d": {
          "model_module": "jupyter-leaflet",
          "model_name": "LeafletMapStyleModel",
          "model_module_version": "^0.17",
          "state": {
            "_model_module": "jupyter-leaflet",
            "_model_module_version": "^0.17",
            "_model_name": "LeafletMapStyleModel",
            "_view_count": null,
            "_view_module": "@jupyter-widgets/base",
            "_view_module_version": "1.2.0",
            "_view_name": "StyleView",
            "cursor": "crosshair"
          }
        },
        "235118b00e53471c8bfb3c5e75c56f69": {
          "model_module": "jupyter-leaflet",
          "model_name": "LeafletMapStyleModel",
          "model_module_version": "^0.17",
          "state": {
            "_model_module": "jupyter-leaflet",
            "_model_module_version": "^0.17",
            "_model_name": "LeafletMapStyleModel",
            "_view_count": null,
            "_view_module": "@jupyter-widgets/base",
            "_view_module_version": "1.2.0",
            "_view_name": "StyleView",
            "cursor": "move"
          }
        },
        "0f0e1f28f909439389211139ffa7d67b": {
          "model_module": "jupyter-leaflet",
          "model_name": "LeafletTileLayerModel",
          "model_module_version": "^0.17",
          "state": {
            "_model_module": "jupyter-leaflet",
            "_model_module_version": "^0.17",
            "_model_name": "LeafletTileLayerModel",
            "_view_count": null,
            "_view_module": "jupyter-leaflet",
            "_view_module_version": "^0.17",
            "_view_name": "LeafletTileLayerView",
            "attribution": "Map tiles by <a href=\"http://stamen.com\">Stamen Design</a>, <a href=\"http://creativecommons.org/licenses/by/3.0\">CC BY 3.0</a> &mdash; Map data &copy; <a href=\"https://www.openstreetmap.org/copyright\">OpenStreetMap</a> contributors",
            "base": true,
            "bottom": true,
            "bounds": null,
            "detect_retina": false,
            "loading": false,
            "max_native_zoom": null,
            "max_zoom": 16,
            "min_native_zoom": null,
            "min_zoom": 1,
            "name": "Stamen.Watercolor",
            "no_wrap": false,
            "opacity": 1,
            "options": [
              "attribution",
              "bounds",
              "detect_retina",
              "max_native_zoom",
              "max_zoom",
              "min_native_zoom",
              "min_zoom",
              "no_wrap",
              "tile_size",
              "tms",
              "zoom_offset"
            ],
            "pane": "",
            "popup": null,
            "popup_max_height": null,
            "popup_max_width": 300,
            "popup_min_width": 50,
            "show_loading": false,
            "subitems": [],
            "tile_size": 256,
            "tms": false,
            "url": "https://stamen-tiles-a.a.ssl.fastly.net/watercolor/{z}/{x}/{y}.jpg",
            "visible": true,
            "zoom_offset": 0
          }
        },
        "1e4e74072c4d4fca90e94d2d24042fe8": {
          "model_module": "@jupyter-widgets/base",
          "model_name": "LayoutModel",
          "model_module_version": "1.2.0",
          "state": {
            "_model_module": "@jupyter-widgets/base",
            "_model_module_version": "1.2.0",
            "_model_name": "LayoutModel",
            "_view_count": null,
            "_view_module": "@jupyter-widgets/base",
            "_view_module_version": "1.2.0",
            "_view_name": "LayoutView",
            "align_content": null,
            "align_items": null,
            "align_self": null,
            "border": null,
            "bottom": null,
            "display": null,
            "flex": null,
            "flex_flow": null,
            "grid_area": null,
            "grid_auto_columns": null,
            "grid_auto_flow": null,
            "grid_auto_rows": null,
            "grid_column": null,
            "grid_gap": null,
            "grid_row": null,
            "grid_template_areas": null,
            "grid_template_columns": null,
            "grid_template_rows": null,
            "height": null,
            "justify_content": null,
            "justify_items": null,
            "left": null,
            "margin": null,
            "max_height": null,
            "max_width": null,
            "min_height": null,
            "min_width": null,
            "object_fit": null,
            "object_position": null,
            "order": null,
            "overflow": null,
            "overflow_x": null,
            "overflow_y": null,
            "padding": null,
            "right": null,
            "top": null,
            "visibility": null,
            "width": "100%"
          }
        },
        "b4849e59ba0a4f958846644642618bc6": {
          "model_module": "jupyter-leaflet",
          "model_name": "LeafletMapStyleModel",
          "model_module_version": "^0.17",
          "state": {
            "_model_module": "jupyter-leaflet",
            "_model_module_version": "^0.17",
            "_model_name": "LeafletMapStyleModel",
            "_view_count": null,
            "_view_module": "@jupyter-widgets/base",
            "_view_module_version": "1.2.0",
            "_view_name": "StyleView",
            "cursor": "grab"
          }
        },
        "4335d44b62c74957aa6ef651eaa118d1": {
          "model_module": "jupyter-leaflet",
          "model_name": "LeafletTileLayerModel",
          "model_module_version": "^0.17",
          "state": {
            "_model_module": "jupyter-leaflet",
            "_model_module_version": "^0.17",
            "_model_name": "LeafletTileLayerModel",
            "_view_count": null,
            "_view_module": "jupyter-leaflet",
            "_view_module_version": "^0.17",
            "_view_name": "LeafletTileLayerView",
            "attribution": null,
            "base": false,
            "bottom": true,
            "bounds": null,
            "detect_retina": false,
            "loading": false,
            "max_native_zoom": null,
            "max_zoom": 18,
            "min_native_zoom": null,
            "min_zoom": 0,
            "name": "Image 1",
            "no_wrap": false,
            "opacity": 1,
            "options": [
              "attribution",
              "bounds",
              "detect_retina",
              "max_native_zoom",
              "max_zoom",
              "min_native_zoom",
              "min_zoom",
              "no_wrap",
              "tile_size",
              "tms",
              "zoom_offset"
            ],
            "pane": "",
            "popup": null,
            "popup_max_height": null,
            "popup_max_width": 300,
            "popup_min_width": 50,
            "show_loading": false,
            "subitems": [],
            "tile_size": 256,
            "tms": false,
            "url": "https://earthengine.googleapis.com/v1alpha/projects/earthengine-legacy/maps/3b4192f7c8a579e4c65cde7014cd2627-1d82e0602f1de480ff24ed8751f7921e/tiles/{z}/{x}/{y}",
            "visible": true,
            "zoom_offset": 0
          }
        },
        "ca38e7ab7e4a402b89af953b803daa93": {
          "model_module": "jupyter-leaflet",
          "model_name": "LeafletTileLayerModel",
          "model_module_version": "^0.17",
          "state": {
            "_model_module": "jupyter-leaflet",
            "_model_module_version": "^0.17",
            "_model_name": "LeafletTileLayerModel",
            "_view_count": null,
            "_view_module": "jupyter-leaflet",
            "_view_module_version": "^0.17",
            "_view_name": "LeafletTileLayerView",
            "attribution": null,
            "base": false,
            "bottom": true,
            "bounds": null,
            "detect_retina": false,
            "loading": false,
            "max_native_zoom": null,
            "max_zoom": 18,
            "min_native_zoom": null,
            "min_zoom": 0,
            "name": "Image 2",
            "no_wrap": false,
            "opacity": 1,
            "options": [
              "attribution",
              "bounds",
              "detect_retina",
              "max_native_zoom",
              "max_zoom",
              "min_native_zoom",
              "min_zoom",
              "no_wrap",
              "tile_size",
              "tms",
              "zoom_offset"
            ],
            "pane": "",
            "popup": null,
            "popup_max_height": null,
            "popup_max_width": 300,
            "popup_min_width": 50,
            "show_loading": false,
            "subitems": [],
            "tile_size": 256,
            "tms": false,
            "url": "https://earthengine.googleapis.com/v1alpha/projects/earthengine-legacy/maps/4e77b496cc5287a3ac2d15aacf8211ab-bfe26c1277e663bfe4ddc56c1ae10b2e/tiles/{z}/{x}/{y}",
            "visible": true,
            "zoom_offset": 0
          }
        },
        "dba8ce2f4ea044baa919609533283f1b": {
          "model_module": "jupyter-leaflet",
          "model_name": "LeafletTileLayerModel",
          "model_module_version": "^0.17",
          "state": {
            "_model_module": "jupyter-leaflet",
            "_model_module_version": "^0.17",
            "_model_name": "LeafletTileLayerModel",
            "_view_count": null,
            "_view_module": "jupyter-leaflet",
            "_view_module_version": "^0.17",
            "_view_name": "LeafletTileLayerView",
            "attribution": null,
            "base": false,
            "bottom": true,
            "bounds": null,
            "detect_retina": false,
            "loading": false,
            "max_native_zoom": null,
            "max_zoom": 18,
            "min_native_zoom": null,
            "min_zoom": 0,
            "name": "Difference",
            "no_wrap": false,
            "opacity": 1,
            "options": [
              "attribution",
              "bounds",
              "detect_retina",
              "max_native_zoom",
              "max_zoom",
              "min_native_zoom",
              "min_zoom",
              "no_wrap",
              "tile_size",
              "tms",
              "zoom_offset"
            ],
            "pane": "",
            "popup": null,
            "popup_max_height": null,
            "popup_max_width": 300,
            "popup_min_width": 50,
            "show_loading": false,
            "subitems": [],
            "tile_size": 256,
            "tms": false,
            "url": "https://earthengine.googleapis.com/v1alpha/projects/earthengine-legacy/maps/09392b7bba25015f109d579fa1fa6f97-ed1a5c4e323281e553292d72b1b402ad/tiles/{z}/{x}/{y}",
            "visible": true,
            "zoom_offset": 0
          }
        },
        "75b9cb15dc3349b0936bfb8a788d71f7": {
          "model_module": "jupyter-leaflet",
          "model_name": "LeafletMapModel",
          "model_module_version": "^0.17",
          "state": {
            "_dom_classes": [],
            "_model_module": "jupyter-leaflet",
            "_model_module_version": "^0.17",
            "_model_name": "LeafletMapModel",
            "_view_count": null,
            "_view_module": "jupyter-leaflet",
            "_view_module_version": "^0.17",
            "_view_name": "LeafletMapView",
            "bottom": 175698,
            "bounce_at_zoom_limits": true,
            "box_zoom": true,
            "center": [
              51.00943283188412,
              8.400139892579185
            ],
            "close_popup_on_click": true,
            "controls": [
              "IPY_MODEL_c84b02af30a04b0ab3964f12dbcecf45",
              "IPY_MODEL_6e9a56d75ba3414e93481a57bdc6d673",
              "IPY_MODEL_0a53ab6523e54afea25996ba35e6f755"
            ],
            "crs": {
              "name": "EPSG3857",
              "custom": false
            },
            "default_style": "IPY_MODEL_df668e55cba74c26adb98bcb4041b578",
            "double_click_zoom": true,
            "dragging": true,
            "dragging_style": "IPY_MODEL_c983af637dac4e7eaeb2b070defc2b1f",
            "east": 8.935317993164064,
            "fullscreen": false,
            "inertia": true,
            "inertia_deceleration": 3000,
            "inertia_max_speed": 1500,
            "interpolation": "bilinear",
            "keyboard": true,
            "keyboard_pan_offset": 80,
            "keyboard_zoom_offset": 1,
            "layers": [
              "IPY_MODEL_18b2f7afc8454679b815344a861f78e3",
              "IPY_MODEL_dd0e5024670e474db8733b3bc87bc88d",
              "IPY_MODEL_718765f9f4474cc2b73802cb89e1ee0a",
              "IPY_MODEL_6467dac494cc439182bf349619423dba",
              "IPY_MODEL_e33c9175c37144c4a3c2df7366cae9d0"
            ],
            "layout": "IPY_MODEL_6cefd536ae5f428fba4a49d3ce8708fb",
            "left": 273599,
            "max_zoom": null,
            "min_zoom": null,
            "modisdate": "2022-11-23",
            "north": 51.095760497969785,
            "options": [
              "bounce_at_zoom_limits",
              "box_zoom",
              "center",
              "close_popup_on_click",
              "double_click_zoom",
              "dragging",
              "fullscreen",
              "inertia",
              "inertia_deceleration",
              "inertia_max_speed",
              "interpolation",
              "keyboard",
              "keyboard_pan_offset",
              "keyboard_zoom_offset",
              "max_zoom",
              "min_zoom",
              "prefer_canvas",
              "scroll_wheel_zoom",
              "tap",
              "tap_tolerance",
              "touch_zoom",
              "world_copy_jump",
              "zoom",
              "zoom_animation_threshold",
              "zoom_delta",
              "zoom_snap"
            ],
            "panes": {},
            "prefer_canvas": false,
            "right": 275157,
            "scroll_wheel_zoom": false,
            "south": 50.92294760545582,
            "style": "IPY_MODEL_9868142d7b7a4ae1a8f194debc1a0300",
            "tap": true,
            "tap_tolerance": 15,
            "top": 175298,
            "touch_zoom": true,
            "west": 7.865524291992188,
            "window_url": "https://ww6o1x133q-496ff2e9c6d22116-0-colab.googleusercontent.com/outputframe.html?vrz=colab-20221122-060107-RC02_490329686",
            "world_copy_jump": false,
            "zoom": 11,
            "zoom_animation_threshold": 4,
            "zoom_delta": 1,
            "zoom_snap": 1
          }
        },
        "c84b02af30a04b0ab3964f12dbcecf45": {
          "model_module": "jupyter-leaflet",
          "model_name": "LeafletZoomControlModel",
          "model_module_version": "^0.17",
          "state": {
            "_model_module": "jupyter-leaflet",
            "_model_module_version": "^0.17",
            "_model_name": "LeafletZoomControlModel",
            "_view_count": null,
            "_view_module": "jupyter-leaflet",
            "_view_module_version": "^0.17",
            "_view_name": "LeafletZoomControlView",
            "options": [
              "position",
              "zoom_in_text",
              "zoom_in_title",
              "zoom_out_text",
              "zoom_out_title"
            ],
            "position": "topleft",
            "zoom_in_text": "+",
            "zoom_in_title": "Zoom in",
            "zoom_out_text": "-",
            "zoom_out_title": "Zoom out"
          }
        },
        "6e9a56d75ba3414e93481a57bdc6d673": {
          "model_module": "jupyter-leaflet",
          "model_name": "LeafletAttributionControlModel",
          "model_module_version": "^0.17",
          "state": {
            "_model_module": "jupyter-leaflet",
            "_model_module_version": "^0.17",
            "_model_name": "LeafletAttributionControlModel",
            "_view_count": null,
            "_view_module": "jupyter-leaflet",
            "_view_module_version": "^0.17",
            "_view_name": "LeafletAttributionControlView",
            "options": [
              "position",
              "prefix"
            ],
            "position": "bottomright",
            "prefix": "ipyleaflet"
          }
        },
        "0a53ab6523e54afea25996ba35e6f755": {
          "model_module": "jupyter-leaflet",
          "model_name": "LeafletLayersControlModel",
          "model_module_version": "^0.17",
          "state": {
            "_model_module": "jupyter-leaflet",
            "_model_module_version": "^0.17",
            "_model_name": "LeafletLayersControlModel",
            "_view_count": null,
            "_view_module": "jupyter-leaflet",
            "_view_module_version": "^0.17",
            "_view_name": "LeafletLayersControlView",
            "options": [
              "position"
            ],
            "position": "topright"
          }
        },
        "df668e55cba74c26adb98bcb4041b578": {
          "model_module": "jupyter-leaflet",
          "model_name": "LeafletMapStyleModel",
          "model_module_version": "^0.17",
          "state": {
            "_model_module": "jupyter-leaflet",
            "_model_module_version": "^0.17",
            "_model_name": "LeafletMapStyleModel",
            "_view_count": null,
            "_view_module": "@jupyter-widgets/base",
            "_view_module_version": "1.2.0",
            "_view_name": "StyleView",
            "cursor": "crosshair"
          }
        },
        "c983af637dac4e7eaeb2b070defc2b1f": {
          "model_module": "jupyter-leaflet",
          "model_name": "LeafletMapStyleModel",
          "model_module_version": "^0.17",
          "state": {
            "_model_module": "jupyter-leaflet",
            "_model_module_version": "^0.17",
            "_model_name": "LeafletMapStyleModel",
            "_view_count": null,
            "_view_module": "@jupyter-widgets/base",
            "_view_module_version": "1.2.0",
            "_view_name": "StyleView",
            "cursor": "move"
          }
        },
        "18b2f7afc8454679b815344a861f78e3": {
          "model_module": "jupyter-leaflet",
          "model_name": "LeafletTileLayerModel",
          "model_module_version": "^0.17",
          "state": {
            "_model_module": "jupyter-leaflet",
            "_model_module_version": "^0.17",
            "_model_name": "LeafletTileLayerModel",
            "_view_count": null,
            "_view_module": "jupyter-leaflet",
            "_view_module_version": "^0.17",
            "_view_name": "LeafletTileLayerView",
            "attribution": "Map tiles by <a href=\"http://stamen.com\">Stamen Design</a>, <a href=\"http://creativecommons.org/licenses/by/3.0\">CC BY 3.0</a> &mdash; Map data &copy; <a href=\"https://www.openstreetmap.org/copyright\">OpenStreetMap</a> contributors",
            "base": true,
            "bottom": true,
            "bounds": null,
            "detect_retina": false,
            "loading": false,
            "max_native_zoom": null,
            "max_zoom": 16,
            "min_native_zoom": null,
            "min_zoom": 1,
            "name": "Stamen.Watercolor",
            "no_wrap": false,
            "opacity": 1,
            "options": [
              "attribution",
              "bounds",
              "detect_retina",
              "max_native_zoom",
              "max_zoom",
              "min_native_zoom",
              "min_zoom",
              "no_wrap",
              "tile_size",
              "tms",
              "zoom_offset"
            ],
            "pane": "",
            "popup": null,
            "popup_max_height": null,
            "popup_max_width": 300,
            "popup_min_width": 50,
            "show_loading": false,
            "subitems": [],
            "tile_size": 256,
            "tms": false,
            "url": "https://stamen-tiles-a.a.ssl.fastly.net/watercolor/{z}/{x}/{y}.jpg",
            "visible": true,
            "zoom_offset": 0
          }
        },
        "dd0e5024670e474db8733b3bc87bc88d": {
          "model_module": "jupyter-leaflet",
          "model_name": "LeafletTileLayerModel",
          "model_module_version": "^0.17",
          "state": {
            "_model_module": "jupyter-leaflet",
            "_model_module_version": "^0.17",
            "_model_name": "LeafletTileLayerModel",
            "_view_count": null,
            "_view_module": "jupyter-leaflet",
            "_view_module_version": "^0.17",
            "_view_name": "LeafletTileLayerView",
            "attribution": null,
            "base": false,
            "bottom": true,
            "bounds": null,
            "detect_retina": false,
            "loading": false,
            "max_native_zoom": null,
            "max_zoom": 18,
            "min_native_zoom": null,
            "min_zoom": 0,
            "name": "Image 1",
            "no_wrap": false,
            "opacity": 1,
            "options": [
              "attribution",
              "bounds",
              "detect_retina",
              "max_native_zoom",
              "max_zoom",
              "min_native_zoom",
              "min_zoom",
              "no_wrap",
              "tile_size",
              "tms",
              "zoom_offset"
            ],
            "pane": "",
            "popup": null,
            "popup_max_height": null,
            "popup_max_width": 300,
            "popup_min_width": 50,
            "show_loading": false,
            "subitems": [],
            "tile_size": 256,
            "tms": false,
            "url": "https://earthengine.googleapis.com/v1alpha/projects/earthengine-legacy/maps/3b4192f7c8a579e4c65cde7014cd2627-dce5f7cf0e546fb4521608d5428578de/tiles/{z}/{x}/{y}",
            "visible": true,
            "zoom_offset": 0
          }
        },
        "718765f9f4474cc2b73802cb89e1ee0a": {
          "model_module": "jupyter-leaflet",
          "model_name": "LeafletTileLayerModel",
          "model_module_version": "^0.17",
          "state": {
            "_model_module": "jupyter-leaflet",
            "_model_module_version": "^0.17",
            "_model_name": "LeafletTileLayerModel",
            "_view_count": null,
            "_view_module": "jupyter-leaflet",
            "_view_module_version": "^0.17",
            "_view_name": "LeafletTileLayerView",
            "attribution": null,
            "base": false,
            "bottom": true,
            "bounds": null,
            "detect_retina": false,
            "loading": false,
            "max_native_zoom": null,
            "max_zoom": 18,
            "min_native_zoom": null,
            "min_zoom": 0,
            "name": "Image 2",
            "no_wrap": false,
            "opacity": 1,
            "options": [
              "attribution",
              "bounds",
              "detect_retina",
              "max_native_zoom",
              "max_zoom",
              "min_native_zoom",
              "min_zoom",
              "no_wrap",
              "tile_size",
              "tms",
              "zoom_offset"
            ],
            "pane": "",
            "popup": null,
            "popup_max_height": null,
            "popup_max_width": 300,
            "popup_min_width": 50,
            "show_loading": false,
            "subitems": [],
            "tile_size": 256,
            "tms": false,
            "url": "https://earthengine.googleapis.com/v1alpha/projects/earthengine-legacy/maps/4e77b496cc5287a3ac2d15aacf8211ab-5a57e125f9699ac339547f5d6d24568d/tiles/{z}/{x}/{y}",
            "visible": true,
            "zoom_offset": 0
          }
        },
        "6467dac494cc439182bf349619423dba": {
          "model_module": "jupyter-leaflet",
          "model_name": "LeafletTileLayerModel",
          "model_module_version": "^0.17",
          "state": {
            "_model_module": "jupyter-leaflet",
            "_model_module_version": "^0.17",
            "_model_name": "LeafletTileLayerModel",
            "_view_count": null,
            "_view_module": "jupyter-leaflet",
            "_view_module_version": "^0.17",
            "_view_name": "LeafletTileLayerView",
            "attribution": null,
            "base": false,
            "bottom": true,
            "bounds": null,
            "detect_retina": false,
            "loading": false,
            "max_native_zoom": null,
            "max_zoom": 18,
            "min_native_zoom": null,
            "min_zoom": 0,
            "name": "Difference",
            "no_wrap": false,
            "opacity": 1,
            "options": [
              "attribution",
              "bounds",
              "detect_retina",
              "max_native_zoom",
              "max_zoom",
              "min_native_zoom",
              "min_zoom",
              "no_wrap",
              "tile_size",
              "tms",
              "zoom_offset"
            ],
            "pane": "",
            "popup": null,
            "popup_max_height": null,
            "popup_max_width": 300,
            "popup_min_width": 50,
            "show_loading": false,
            "subitems": [],
            "tile_size": 256,
            "tms": false,
            "url": "https://earthengine.googleapis.com/v1alpha/projects/earthengine-legacy/maps/09392b7bba25015f109d579fa1fa6f97-9c6260692cd84c6514bdcd35142d7901/tiles/{z}/{x}/{y}",
            "visible": true,
            "zoom_offset": 0
          }
        },
        "e33c9175c37144c4a3c2df7366cae9d0": {
          "model_module": "jupyter-leaflet",
          "model_name": "LeafletTileLayerModel",
          "model_module_version": "^0.17",
          "state": {
            "_model_module": "jupyter-leaflet",
            "_model_module_version": "^0.17",
            "_model_name": "LeafletTileLayerModel",
            "_view_count": null,
            "_view_module": "jupyter-leaflet",
            "_view_module_version": "^0.17",
            "_view_name": "LeafletTileLayerView",
            "attribution": null,
            "base": false,
            "bottom": true,
            "bounds": null,
            "detect_retina": false,
            "loading": false,
            "max_native_zoom": null,
            "max_zoom": 18,
            "min_native_zoom": null,
            "min_zoom": 0,
            "name": "MAD Image",
            "no_wrap": false,
            "opacity": 1,
            "options": [
              "attribution",
              "bounds",
              "detect_retina",
              "max_native_zoom",
              "max_zoom",
              "min_native_zoom",
              "min_zoom",
              "no_wrap",
              "tile_size",
              "tms",
              "zoom_offset"
            ],
            "pane": "",
            "popup": null,
            "popup_max_height": null,
            "popup_max_width": 300,
            "popup_min_width": 50,
            "show_loading": false,
            "subitems": [],
            "tile_size": 256,
            "tms": false,
            "url": "https://earthengine.googleapis.com/v1alpha/projects/earthengine-legacy/maps/9169df113bdc069ab780d4ef8c3dfb8c-286dc20fa21cd53d14bbea3725a84e21/tiles/{z}/{x}/{y}",
            "visible": true,
            "zoom_offset": 0
          }
        },
        "6cefd536ae5f428fba4a49d3ce8708fb": {
          "model_module": "@jupyter-widgets/base",
          "model_name": "LayoutModel",
          "model_module_version": "1.2.0",
          "state": {
            "_model_module": "@jupyter-widgets/base",
            "_model_module_version": "1.2.0",
            "_model_name": "LayoutModel",
            "_view_count": null,
            "_view_module": "@jupyter-widgets/base",
            "_view_module_version": "1.2.0",
            "_view_name": "LayoutView",
            "align_content": null,
            "align_items": null,
            "align_self": null,
            "border": null,
            "bottom": null,
            "display": null,
            "flex": null,
            "flex_flow": null,
            "grid_area": null,
            "grid_auto_columns": null,
            "grid_auto_flow": null,
            "grid_auto_rows": null,
            "grid_column": null,
            "grid_gap": null,
            "grid_row": null,
            "grid_template_areas": null,
            "grid_template_columns": null,
            "grid_template_rows": null,
            "height": null,
            "justify_content": null,
            "justify_items": null,
            "left": null,
            "margin": null,
            "max_height": null,
            "max_width": null,
            "min_height": null,
            "min_width": null,
            "object_fit": null,
            "object_position": null,
            "order": null,
            "overflow": null,
            "overflow_x": null,
            "overflow_y": null,
            "padding": null,
            "right": null,
            "top": null,
            "visibility": null,
            "width": "100%"
          }
        },
        "9868142d7b7a4ae1a8f194debc1a0300": {
          "model_module": "jupyter-leaflet",
          "model_name": "LeafletMapStyleModel",
          "model_module_version": "^0.17",
          "state": {
            "_model_module": "jupyter-leaflet",
            "_model_module_version": "^0.17",
            "_model_name": "LeafletMapStyleModel",
            "_view_count": null,
            "_view_module": "@jupyter-widgets/base",
            "_view_module_version": "1.2.0",
            "_view_name": "StyleView",
            "cursor": "grab"
          }
        }
      }
    }
  },
  "nbformat": 4,
  "nbformat_minor": 0
}